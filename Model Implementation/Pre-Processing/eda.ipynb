{
 "cells": [
  {
   "cell_type": "code",
   "execution_count": null,
   "metadata": {},
   "outputs": [],
   "source": [
    "import cv2\n",
    "import matplotlib.pyplot as plt\n",
    "import glob\n",
    "import numpy as np\n",
    "from Training.path_constants import ORIG_DATA_PATH, Marmot_data\n",
    "from preprocessing_utilities import create_element_mask, get_table_bounding_box, get_column_bounding_box"
   ]
  },
  {
   "cell_type": "code",
   "execution_count": null,
   "metadata": {},
   "outputs": [],
   "source": [
    "positive_data = glob.glob(f'{ORIG_DATA_PATH}/Positive/Raw' + '/*.bmp')\n",
    "negative_data = glob.glob(f'{ORIG_DATA_PATH}/Negative/Raw' + '/*.bmp')"
   ]
  },
  {
   "cell_type": "code",
   "execution_count": null,
   "metadata": {},
   "outputs": [],
   "source": [
    "fig = plt.figure(figsize = (10, 5))\n",
    "x = ['Neg Samples', 'Pos Samples']\n",
    "y = [len(negative_data), len(positive_data)]\n",
    "plt.bar(x, y,width = 0.4)\n",
    "plt.title('Distribution: Positive and Negative Samples')\n",
    "plt.show()"
   ]
  },
  {
   "cell_type": "code",
   "execution_count": null,
   "metadata": {},
   "outputs": [],
   "source": [
    "new_h, new_w = 1024, 1024"
   ]
  },
  {
   "cell_type": "code",
   "execution_count": null,
   "metadata": {},
   "outputs": [],
   "source": [
    "# Negative Example\n",
    "image_path = f'{ORIG_DATA_PATH}/Negative/Raw/10.1.1.1.2000_4.bmp'\n",
    "image = Image.open(image_path)\n",
    "image = image.resize((new_h, new_w))\n",
    "table_mask = create_element_mask(new_h, new_w)\n",
    "column_mask = create_element_mask(new_h, new_w)\n",
    "# Ploting\n",
    "f, ax = plt.subplots(1,3, figsize = (20,15))\n",
    "ax[0].imshow(np.array(image))\n",
    "ax[0].set_title('Original Image')\n",
    "ax[1].imshow(table_mask)\n",
    "ax[1].set_title('Table Mask')\n",
    "ax[2].imshow(column_mask)\n",
    "ax[2].set_title('Column Mask')\n",
    "plt.show()"
   ]
  },
  {
   "cell_type": "code",
   "execution_count": null,
   "metadata": {},
   "outputs": [],
   "source": [
    "# Positive Example\n",
    "image_path = f'{ORIG_DATA_PATH}/Positive/Raw/10.1.1.1.2006_3.bmp'\n",
    "table_xml_path = f'{ORIG_DATA_PATH}/Positive/Labeled/10.1.1.1.2006_3.xml'\n",
    "column_xml_path = f'{Marmot_data}/10.1.1.1.2006_3.xml'\n",
    "# Load image\n",
    "image = Image.open(image_path)\n",
    "# Resize imageto std 1024, 1024\n",
    "w, h = image.size\n",
    "image = image.resize((new_h, new_w))\n",
    "# Convert to 3 channel image if 1 channel\n",
    "if image.mode != 'RGB':\n",
    "    image = image.convert(\"RGB\")\n",
    "# Scaled versions of bbox coordinates of table\n",
    "table_bounding_boxes = get_table_bounding_box(table_xml_path, (new_h, new_w))\n",
    "# Scaled versions of bbox coordinates of columns\n",
    "column_bounding_boxes, table_bounding_boxes = get_column_bounding_box(column_xml_path, (h,w), (new_h, new_w), table_bounding_boxes)"
   ]
  },
  {
   "cell_type": "code",
   "execution_count": null,
   "metadata": {},
   "outputs": [],
   "source": [
    "column_bounding_boxes, table_bounding_boxes"
   ]
  },
  {
   "cell_type": "code",
   "execution_count": null,
   "metadata": {},
   "outputs": [],
   "source": [
    "plt.figure(figsize = (20,10))\n",
    "image_copy = np.array(image).copy()\n",
    "for bounding_box in table_bounding_boxes:\n",
    "    cv2.rectangle(image_copy, (bounding_box[0], bounding_box[1]), (bounding_box[2], bounding_box[3]), (0, 255, 0), 2)\n",
    "for bounding_box in column_bounding_boxes:\n",
    "    cv2.rectangle(image_copy, (bounding_box[0], bounding_box[1]), (bounding_box[2], bounding_box[3]), (255, 255, 0), 2)\n",
    "plt.imshow(image_copy)"
   ]
  },
  {
   "cell_type": "code",
   "execution_count": null,
   "metadata": {},
   "outputs": [],
   "source": [
    "table_mask = create_element_mask(new_h, new_w, table_bounding_boxes)\n",
    "column_mask = create_element_mask(new_h, new_w, column_bounding_boxes)"
   ]
  },
  {
   "cell_type": "code",
   "execution_count": null,
   "metadata": {},
   "outputs": [],
   "source": [
    "f, ax = plt.subplots(1,3, figsize = (20,15))\n",
    "ax[0].imshow(np.array(image_copy))\n",
    "ax[0].set_title('Original Image')\n",
    "ax[1].imshow(table_mask)\n",
    "ax[1].set_title('Table Mask')\n",
    "ax[2].imshow(column_mask)\n",
    "ax[2].set_title('Column Mask')\n",
    "plt.show()"
   ]
  }
 ],
 "metadata": {
  "kernelspec": {
   "display_name": "Python 3",
   "language": "python",
   "name": "python3"
  },
  "language_info": {
   "name": "python",
   "version": "3.9.7"
  },
  "orig_nbformat": 4,
  "vscode": {
   "interpreter": {
    "hash": "92cc54a05d1ad6fd73bb4b9111dd84f41a66497e622f98d2a5bcc9478314e882"
   }
  }
 },
 "nbformat": 4,
 "nbformat_minor": 2
}
